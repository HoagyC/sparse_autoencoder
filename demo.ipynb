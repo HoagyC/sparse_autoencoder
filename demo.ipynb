{
 "cells": [
  {
   "cell_type": "code",
   "execution_count": null,
   "metadata": {},
   "outputs": [],
   "source": [
    "# # Auto reload\n",
    "%load_ext autoreload\n",
    "%autoreload 2"
   ]
  },
  {
   "cell_type": "code",
   "execution_count": null,
   "metadata": {},
   "outputs": [],
   "source": [
    "import torch\n",
    "from transformer_lens import HookedTransformer\n",
    "\n",
    "from sparse_autoencoder.autoencoder.model import SparseAutoencoder\n",
    "from sparse_autoencoder.dataset.dataloader import (\n",
    "    collate_neel_c4_tokenized,\n",
    "    create_dataloader,\n",
    ")\n",
    "from sparse_autoencoder.train.train import pipeline"
   ]
  },
  {
   "cell_type": "code",
   "execution_count": null,
   "metadata": {},
   "outputs": [],
   "source": [
    "src_model = HookedTransformer.from_pretrained(\"NeelNanda/GELU_1L512W_C4_Code\")\n",
    "n_input_features = src_model.cfg.d_mlp\n",
    "\n",
    "autoencoder = SparseAutoencoder(\n",
    "    n_input_features=n_input_features,\n",
    "    n_learned_features=n_input_features * 8,\n",
    "    geometric_median_dataset=torch.zeros(n_input_features),\n",
    ")\n",
    "autoencoder"
   ]
  },
  {
   "cell_type": "code",
   "execution_count": null,
   "metadata": {},
   "outputs": [],
   "source": [
    "dataloader = create_dataloader(\n",
    "    \"NeelNanda/c4-code-tokenized-2b\",\n",
    "    collate_fn=collate_neel_c4_tokenized,\n",
    "    shuffle_buffer_size=1000,\n",
    "    batch_size=2,\n",
    "    num_workers=1,\n",
    ")"
   ]
  },
  {
   "cell_type": "code",
   "execution_count": null,
   "metadata": {},
   "outputs": [],
   "source": [
    "pipeline(\n",
    "    src_model=src_model,\n",
    "    autoencoder=autoencoder,\n",
    "    activation_hook_point=\"blocks.0.mlp.hook_post\",\n",
    "    prompts_dataloader=dataloader,\n",
    ")"
   ]
  }
 ],
 "metadata": {
  "kernelspec": {
   "display_name": ".venv",
   "language": "python",
   "name": "python3"
  },
  "language_info": {
   "codemirror_mode": {
    "name": "ipython",
    "version": 3
   },
   "file_extension": ".py",
   "mimetype": "text/x-python",
   "name": "python",
   "nbconvert_exporter": "python",
   "pygments_lexer": "ipython3",
   "version": "3.11.6"
  }
 },
 "nbformat": 4,
 "nbformat_minor": 2
}
