{
 "cells": [
  {
   "cell_type": "markdown",
   "metadata": {},
   "source": [
    "# Sparse Autoencoder Training Demo"
   ]
  },
  {
   "cell_type": "markdown",
   "metadata": {},
   "source": [
    "## Setup"
   ]
  },
  {
   "cell_type": "code",
   "execution_count": null,
   "metadata": {},
   "outputs": [],
   "source": [
    "# Autoreload\n",
    "# %load_ext autoreload\n",
    "# %autoreload 2\n",
    "\n",
    "from sparse_autoencoder import (\n",
    "    SparseAutoencoder,\n",
    "    TensorActivationStore,\n",
    "    pipeline,\n",
    "    create_src_dataloader,\n",
    ")\n",
    "from transformer_lens import HookedTransformer\n",
    "from sparse_autoencoder.src_data.datasets.neel_c4_tokenized import (\n",
    "    collate_neel_c4_tokenized,\n",
    ")\n",
    "import torch\n",
    "import wandb\n",
    "import os"
   ]
  },
  {
   "cell_type": "markdown",
   "metadata": {},
   "source": [
    "### Source Dataset"
   ]
  },
  {
   "cell_type": "code",
   "execution_count": null,
   "metadata": {},
   "outputs": [],
   "source": [
    "src_dataloader = create_src_dataloader(\n",
    "    \"NeelNanda/c4-code-tokenized-2b\",\n",
    "    collate_fn=collate_neel_c4_tokenized,\n",
    "    shuffle_buffer_size=10_000,\n",
    "    random_seed=0,\n",
    ")"
   ]
  },
  {
   "cell_type": "markdown",
   "metadata": {},
   "source": [
    "### Source Model"
   ]
  },
  {
   "cell_type": "code",
   "execution_count": null,
   "metadata": {},
   "outputs": [],
   "source": [
    "src_model = HookedTransformer.from_pretrained(\"solu-1l\")\n",
    "src_d_mlp = src_model.cfg.d_mlp"
   ]
  },
  {
   "cell_type": "markdown",
   "metadata": {},
   "source": [
    "### Activation Store"
   ]
  },
  {
   "cell_type": "code",
   "execution_count": null,
   "metadata": {},
   "outputs": [],
   "source": [
    "max_items = 10_000\n",
    "store = TensorActivationStore(max_items, src_d_mlp, torch.device(\"mps\"))"
   ]
  },
  {
   "cell_type": "markdown",
   "metadata": {},
   "source": [
    "### Autoencoder"
   ]
  },
  {
   "cell_type": "code",
   "execution_count": null,
   "metadata": {},
   "outputs": [],
   "source": [
    "autoencoder = SparseAutoencoder(src_d_mlp, src_d_mlp * 8, torch.zeros(src_d_mlp))"
   ]
  },
  {
   "cell_type": "markdown",
   "metadata": {},
   "source": [
    "## Training"
   ]
  },
  {
   "cell_type": "code",
   "execution_count": null,
   "metadata": {},
   "outputs": [],
   "source": [
    "# Disable TOKENIZERS_PARALLELISM warning\n",
    "os.environ[\"TOKENIZERS_PARALLELISM\"] = \"false\""
   ]
  },
  {
   "cell_type": "code",
   "execution_count": null,
   "metadata": {},
   "outputs": [],
   "source": [
    "pipeline(\n",
    "    src_model=src_model,\n",
    "    src_model_activation_hook_point=\"blocks.0.mlp.hook_post\",\n",
    "    src_model_activation_layer=0,\n",
    "    src_dataloader=src_dataloader,\n",
    "    activation_store=store,\n",
    "    num_activations_before_training=max_items,\n",
    "    autoencoder=autoencoder,\n",
    ")"
   ]
  }
 ],
 "metadata": {
  "kernelspec": {
   "display_name": ".venv",
   "language": "python",
   "name": "python3"
  },
  "language_info": {
   "codemirror_mode": {
    "name": "ipython",
    "version": 3
   },
   "file_extension": ".py",
   "mimetype": "text/x-python",
   "name": "python",
   "nbconvert_exporter": "python",
   "pygments_lexer": "ipython3",
   "version": "3.11.6"
  }
 },
 "nbformat": 4,
 "nbformat_minor": 2
}
